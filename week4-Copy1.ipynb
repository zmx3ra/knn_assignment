{
 "cells": [
  {
   "cell_type": "code",
   "execution_count": 3,
   "id": "251452d0-0fd9-453e-826d-2cf25664a6d9",
   "metadata": {},
   "outputs": [],
   "source": [
    "# Q1 + Q2 (Q1 will be in a gist)\n",
    "\n",
    "import numpy as np \n",
    "import pandas as pd\n",
    "import matplotlib.pyplot as plt\n",
    "import seaborn as sns\n",
    "\n",
    "#importing the necessary libraries "
   ]
  },
  {
   "cell_type": "code",
   "execution_count": 7,
   "id": "3a7dd4c4-7100-4b0e-986e-374ca935fbb9",
   "metadata": {},
   "outputs": [],
   "source": [
    "# Q2 Part 1\n",
    "df = pd.read_csv(r\"C:\\Users\\rache\\knn_assignment\\data\\USA_cars_datasets.csv\")"
   ]
  },
  {
   "cell_type": "code",
   "execution_count": 8,
   "id": "d58a5c7d-bb96-4a12-bc2f-d0650549a742",
   "metadata": {},
   "outputs": [],
   "source": [
    "# Q2 Part 1\n",
    "subset=df[['price','year','mileage']]\n",
    "# subsetting the data "
   ]
  },
  {
   "cell_type": "code",
   "execution_count": 10,
   "id": "e0c7e211-2300-4ad5-b6de-b050bac9ac8b",
   "metadata": {},
   "outputs": [
    {
     "data": {
      "text/plain": [
       "np.int64(0)"
      ]
     },
     "execution_count": 10,
     "metadata": {},
     "output_type": "execute_result"
    }
   ],
   "source": [
    "# Q2 Part 1\n",
    "subset['price'].isna().sum()\n",
    "# checking if there are NA's to handle, there are not!"
   ]
  },
  {
   "cell_type": "code",
   "execution_count": 11,
   "id": "2ff00db0-4b7e-4c1f-a60e-e939d6c69e0a",
   "metadata": {},
   "outputs": [
    {
     "data": {
      "text/plain": [
       "np.int64(0)"
      ]
     },
     "execution_count": 11,
     "metadata": {},
     "output_type": "execute_result"
    }
   ],
   "source": [
    "# Q2 Part 1\n",
    "subset['year'].isna().sum()"
   ]
  },
  {
   "cell_type": "code",
   "execution_count": 12,
   "id": "7cdefc90-8626-4d60-b430-d5f96aa37000",
   "metadata": {},
   "outputs": [
    {
     "data": {
      "text/plain": [
       "np.int64(0)"
      ]
     },
     "execution_count": 12,
     "metadata": {},
     "output_type": "execute_result"
    }
   ],
   "source": [
    "# Q2 Part 1\n",
    "subset['mileage'].isna().sum()"
   ]
  },
  {
   "cell_type": "code",
   "execution_count": 13,
   "id": "df65c6b8-b190-4144-a836-63e2628b1dad",
   "metadata": {},
   "outputs": [
    {
     "data": {
      "text/html": [
       "<div>\n",
       "<style scoped>\n",
       "    .dataframe tbody tr th:only-of-type {\n",
       "        vertical-align: middle;\n",
       "    }\n",
       "\n",
       "    .dataframe tbody tr th {\n",
       "        vertical-align: top;\n",
       "    }\n",
       "\n",
       "    .dataframe thead th {\n",
       "        text-align: right;\n",
       "    }\n",
       "</style>\n",
       "<table border=\"1\" class=\"dataframe\">\n",
       "  <thead>\n",
       "    <tr style=\"text-align: right;\">\n",
       "      <th></th>\n",
       "      <th>price</th>\n",
       "      <th>year</th>\n",
       "      <th>mileage</th>\n",
       "    </tr>\n",
       "  </thead>\n",
       "  <tbody>\n",
       "    <tr>\n",
       "      <th>0</th>\n",
       "      <td>6300</td>\n",
       "      <td>2008</td>\n",
       "      <td>274117</td>\n",
       "    </tr>\n",
       "    <tr>\n",
       "      <th>1</th>\n",
       "      <td>2899</td>\n",
       "      <td>2011</td>\n",
       "      <td>190552</td>\n",
       "    </tr>\n",
       "    <tr>\n",
       "      <th>2</th>\n",
       "      <td>5350</td>\n",
       "      <td>2018</td>\n",
       "      <td>39590</td>\n",
       "    </tr>\n",
       "    <tr>\n",
       "      <th>3</th>\n",
       "      <td>25000</td>\n",
       "      <td>2014</td>\n",
       "      <td>64146</td>\n",
       "    </tr>\n",
       "    <tr>\n",
       "      <th>4</th>\n",
       "      <td>27700</td>\n",
       "      <td>2018</td>\n",
       "      <td>6654</td>\n",
       "    </tr>\n",
       "  </tbody>\n",
       "</table>\n",
       "</div>"
      ],
      "text/plain": [
       "   price  year  mileage\n",
       "0   6300  2008   274117\n",
       "1   2899  2011   190552\n",
       "2   5350  2018    39590\n",
       "3  25000  2014    64146\n",
       "4  27700  2018     6654"
      ]
     },
     "execution_count": 13,
     "metadata": {},
     "output_type": "execute_result"
    }
   ],
   "source": [
    "# Q2 Part 1\n",
    "subset.head()\n",
    "\n",
    "# There are no NA's to handle "
   ]
  },
  {
   "cell_type": "code",
   "execution_count": 14,
   "id": "25e7b008-355e-4b6e-adf0-1a63d9db34c2",
   "metadata": {},
   "outputs": [
    {
     "data": {
      "text/html": [
       "<div>\n",
       "<style scoped>\n",
       "    .dataframe tbody tr th:only-of-type {\n",
       "        vertical-align: middle;\n",
       "    }\n",
       "\n",
       "    .dataframe tbody tr th {\n",
       "        vertical-align: top;\n",
       "    }\n",
       "\n",
       "    .dataframe thead th {\n",
       "        text-align: right;\n",
       "    }\n",
       "</style>\n",
       "<table border=\"1\" class=\"dataframe\">\n",
       "  <thead>\n",
       "    <tr style=\"text-align: right;\">\n",
       "      <th></th>\n",
       "      <th>price</th>\n",
       "      <th>year</th>\n",
       "      <th>mileage</th>\n",
       "    </tr>\n",
       "  </thead>\n",
       "  <tbody>\n",
       "    <tr>\n",
       "      <th>count</th>\n",
       "      <td>2499.000000</td>\n",
       "      <td>2499.000000</td>\n",
       "      <td>2.499000e+03</td>\n",
       "    </tr>\n",
       "    <tr>\n",
       "      <th>mean</th>\n",
       "      <td>18767.671469</td>\n",
       "      <td>2016.714286</td>\n",
       "      <td>5.229869e+04</td>\n",
       "    </tr>\n",
       "    <tr>\n",
       "      <th>std</th>\n",
       "      <td>12116.094936</td>\n",
       "      <td>3.442656</td>\n",
       "      <td>5.970552e+04</td>\n",
       "    </tr>\n",
       "    <tr>\n",
       "      <th>min</th>\n",
       "      <td>0.000000</td>\n",
       "      <td>1973.000000</td>\n",
       "      <td>0.000000e+00</td>\n",
       "    </tr>\n",
       "    <tr>\n",
       "      <th>25%</th>\n",
       "      <td>10200.000000</td>\n",
       "      <td>2016.000000</td>\n",
       "      <td>2.146650e+04</td>\n",
       "    </tr>\n",
       "    <tr>\n",
       "      <th>50%</th>\n",
       "      <td>16900.000000</td>\n",
       "      <td>2018.000000</td>\n",
       "      <td>3.536500e+04</td>\n",
       "    </tr>\n",
       "    <tr>\n",
       "      <th>75%</th>\n",
       "      <td>25555.500000</td>\n",
       "      <td>2019.000000</td>\n",
       "      <td>6.347250e+04</td>\n",
       "    </tr>\n",
       "    <tr>\n",
       "      <th>max</th>\n",
       "      <td>84900.000000</td>\n",
       "      <td>2020.000000</td>\n",
       "      <td>1.017936e+06</td>\n",
       "    </tr>\n",
       "  </tbody>\n",
       "</table>\n",
       "</div>"
      ],
      "text/plain": [
       "              price         year       mileage\n",
       "count   2499.000000  2499.000000  2.499000e+03\n",
       "mean   18767.671469  2016.714286  5.229869e+04\n",
       "std    12116.094936     3.442656  5.970552e+04\n",
       "min        0.000000  1973.000000  0.000000e+00\n",
       "25%    10200.000000  2016.000000  2.146650e+04\n",
       "50%    16900.000000  2018.000000  3.536500e+04\n",
       "75%    25555.500000  2019.000000  6.347250e+04\n",
       "max    84900.000000  2020.000000  1.017936e+06"
      ]
     },
     "execution_count": 14,
     "metadata": {},
     "output_type": "execute_result"
    }
   ],
   "source": [
    "# Q2 Part 1\n",
    "subset.describe()\n",
    "# checking the dimensions"
   ]
  },
  {
   "cell_type": "code",
   "execution_count": 15,
   "id": "00eddb77-d12b-462f-8830-e43df92deb47",
   "metadata": {},
   "outputs": [
    {
     "name": "stdout",
     "output_type": "stream",
     "text": [
      "   price      year   mileage\n",
      "0   6300  0.744681  0.269287\n",
      "1   2899  0.808511  0.187194\n",
      "2   5350  0.957447  0.038892\n",
      "3  25000  0.872340  0.063016\n",
      "4  27700  0.957447  0.006537\n"
     ]
    },
    {
     "name": "stderr",
     "output_type": "stream",
     "text": [
      "C:\\Users\\rache\\AppData\\Local\\Temp\\ipykernel_41332\\46688280.py:8: FutureWarning: Setting an item of incompatible dtype is deprecated and will raise in a future error of pandas. Value '[0.74468085 0.80851064 0.95744681 ... 0.95744681 0.95744681 0.95744681]' has dtype incompatible with int64, please explicitly cast to a compatible dtype first.\n",
      "  subset.loc[:,'year']=X['year']\n",
      "C:\\Users\\rache\\AppData\\Local\\Temp\\ipykernel_41332\\46688280.py:9: FutureWarning: Setting an item of incompatible dtype is deprecated and will raise in a future error of pandas. Value '[0.26928707 0.18719448 0.03889243 ... 0.03103731 0.03198335 0.03081824]' has dtype incompatible with int64, please explicitly cast to a compatible dtype first.\n",
      "  subset.loc[:,'mileage']=X['mileage']\n"
     ]
    }
   ],
   "source": [
    "# Q2 Part 2\n",
    "def maxmin(z):\n",
    "    z = (z-min(z))/(max(z)-min(z))\n",
    "    return(z)\n",
    "\n",
    "# Apply maxmin to each column of X to get U:\n",
    "X=subset.loc[:,['year','mileage']]\n",
    "X = X.apply(maxmin)\n",
    "subset.loc[:,'year']=X['year']\n",
    "subset.loc[:,'mileage']=X['mileage']\n",
    "X.head()\n",
    "print(subset.head(5))"
   ]
  },
  {
   "cell_type": "code",
   "execution_count": 18,
   "id": "dcf30598-99fd-43ae-a3d7-514a7882dc4b",
   "metadata": {},
   "outputs": [],
   "source": [
    "# Q2 Part 3\n",
    "X = subset.drop(\"price\", axis=1)   # all columns except target\n",
    "y = subset[\"price\"] \n",
    "\n",
    "from sklearn.model_selection import train_test_split\n",
    "X_train, X_test, y_train, y_test = train_test_split(X,y, # Feature and target variables\n",
    "                                                    test_size=.2, # Split the sample 80 train/ 20 test\n",
    "                                                    random_state=65) # For replication purposes"
   ]
  },
  {
   "cell_type": "code",
   "execution_count": 21,
   "id": "ea8aef5d-77a7-48e8-a572-6e32c88ac7ba",
   "metadata": {},
   "outputs": [
    {
     "name": "stdout",
     "output_type": "stream",
     "text": [
      "[4]\n"
     ]
    }
   ],
   "source": [
    "# Q2 Part 4\n",
    "from sklearn.neighbors import KNeighborsRegressor\n",
    "\n",
    "k_bar = [3,10,25,50,100,300] # List of k's to try\n",
    "SSE = [] # Where we store the SSE  \n",
    "SSE_on_train = [] # save the training error\n",
    "\n",
    "for k in k_bar:\n",
    "    model = KNeighborsRegressor(n_neighbors=k+1) # Create a sk model for k\n",
    "    fitted_model = model.fit(X_train,y_train) # Train the model on our data\n",
    "    y_hat = fitted_model.predict(X_test) # Predict values for test set\n",
    "    SSE.append(np.sum( (y_test-y_hat)**2 )) # Save the computed SSE for test set\n",
    "    y_hat = fitted_model.predict(X_train) # Predict values for training set\n",
    "    SSE_on_train.append( np.sum( (y_train-y_hat)**2 ) ) # Save the computed SSE\n",
    "\n",
    "SSE_min = np.min(SSE) # Find lowest recorded SSE\n",
    "min_index = np.where(SSE==SSE_min) # Find where SSE equals the minimum\n",
    "k_star = min_index[0]+1 # Find the optimal value of k\n",
    "print(k_star)"
   ]
  },
  {
   "cell_type": "code",
   "execution_count": 23,
   "id": "65493ed3-1367-4ddb-87ae-a5c084346d68",
   "metadata": {},
   "outputs": [
    {
     "data": {
      "image/png": "[encoded data removed]",
      "text/plain": [
       "<Figure size 640x480 with 1 Axes>"
      ]
     },
     "metadata": {},
     "output_type": "display_data"
    }
   ],
   "source": [
    "# Q2 Part 4\n",
    "plt.plot(k_bar,SSE,label='Test SSE') # Plot SSE by k\n",
    "plt.xlabel(\"k\")\n",
    "plt.ylabel(\"SSE\")\n",
    "plt.legend(loc='upper right')\n",
    "plt.title('SSE')\n",
    "plt.show()\n",
    "\n",
    "# Plotting the graph; as K gets bigger, there is an initial drop then it slowly increases"
   ]
  },
  {
   "cell_type": "code",
   "execution_count": 31,
   "id": "0af3ece8-eb85-4efe-b9a4-8213aa170207",
   "metadata": {},
   "outputs": [
    {
     "name": "stdout",
     "output_type": "stream",
     "text": [
      "[6.12332382e+10 5.55004760e+10 5.21716772e+10 5.18354497e+10\n",
      " 5.22715756e+10 5.37993125e+10]\n"
     ]
    }
   ],
   "source": [
    "# Q2 Part 4\n",
    "n=len(y_test)\n",
    "print(np.round((SSE),3))\n",
    "ssefinal=[6.12332382e+10/n, 5.55004760e+10/n, 5.21716772e+10/n, 5.18354497e+10/n, 5.22715756e+10/n, 5.37993125e+10/n]  "
   ]
  },
  {
   "cell_type": "code",
   "execution_count": 32,
   "id": "70615367-991b-44ba-8be7-637d713ffe69",
   "metadata": {},
   "outputs": [
    {
     "name": "stdout",
     "output_type": "stream",
     "text": [
      "[122466476.4, 111000952.0, 104343354.4, 103670899.4, 104543151.2, 107598625.0]\n"
     ]
    }
   ],
   "source": [
    "# Q2 Part 5\n",
    "print(ssefinal)\n",
    "# ask k increases, sse begins to increase in a linear fashion, but it first decreases. this is not ideal. the optimal k is 4"
   ]
  },
  {
   "cell_type": "code",
   "execution_count": 33,
   "id": "6f6ccdaa-76fa-4ab1-9934-80b69139b45f",
   "metadata": {},
   "outputs": [
    {
     "data": {
      "image/png": "[encoded data removed]",
      "text/plain": [
       "<Figure size 640x480 with 1 Axes>"
      ]
     },
     "metadata": {},
     "output_type": "display_data"
    }
   ],
   "source": [
    "# Q2 Part 6\n",
    "plt.plot(k_bar,SSE_on_train,label='Train') # Plot SSE by k\n",
    "plt.plot(k_bar,SSE,label='Test') # Plot SSE by k\n",
    "plt.xlabel(\"k\")\n",
    "plt.ylabel(\"SSE\")\n",
    "plt.legend(loc='lower right')\n",
    "plt.title('SSE')\n",
    "plt.show()\n",
    "\n",
    "# the test set is better than training set as the training set is increasing SSE as K increases, but the test set SSE is staying neutral while K is increasing; seems to be overfitting"
   ]
  },
  {
   "cell_type": "code",
   "execution_count": null,
   "id": "ffedeedb-bdad-4871-aa7b-8893b7e0d703",
   "metadata": {},
   "outputs": [],
   "source": []
  }
 ],
 "metadata": {
  "kernelspec": {
   "display_name": "Python [conda env:base] *",
   "language": "python",
   "name": "conda-base-py"
  },
  "language_info": {
   "codemirror_mode": {
    "name": "ipython",
    "version": 3
   },
   "file_extension": ".py",
   "mimetype": "text/x-python",
   "name": "python",
   "nbconvert_exporter": "python",
   "pygments_lexer": "ipython3",
   "version": "3.13.5"
  }
 },
 "nbformat": 4,
 "nbformat_minor": 5
}
